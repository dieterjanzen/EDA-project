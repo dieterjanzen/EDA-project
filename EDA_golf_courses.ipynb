{
 "cells": [
  {
   "cell_type": "code",
   "execution_count": null,
   "metadata": {},
   "outputs": [],
   "source": [
    "# Importing libraries\n",
    "import pandas as pd\n",
    "import plotly.express as px\n",
    "\n",
    "# Geopy will be used to with Nominatim to fetch coordinates for addresses from OpenStreetMap (OSM)\n",
    "from geopy.geocoders import Nominatim\n",
    "geolocator = Nominatim(user_agent=\"DJ_EDA-project\")\n",
    "\n",
    "# This limits the query late and retries on timeout errors\n",
    "from geopy.extra.rate_limiter import RateLimiter\n",
    "geocode = RateLimiter(geolocator.geocode, min_delay_seconds=1)\n",
    "\n",
    "import warnings\n",
    "warnings.filterwarnings(\"ignore\")\n"
   ]
  },
  {
   "cell_type": "code",
   "execution_count": null,
   "metadata": {},
   "outputs": [],
   "source": [
    "\n",
    "# Importing golf course addresses to a DataFrame\n",
    "golf_df = pd.read_csv(\"data/golf_courses.csv\")\n",
    "golf_df.head()"
   ]
  },
  {
   "cell_type": "code",
   "execution_count": null,
   "metadata": {},
   "outputs": [],
   "source": [
    "# This will use Geopy's geocode to fetch all the location data from OSM for every address\n",
    "golf_df['location'] = golf_df['address'].apply(geocode)"
   ]
  },
  {
   "cell_type": "code",
   "execution_count": null,
   "metadata": {},
   "outputs": [],
   "source": [
    "# Creates a new 'point' column containing latitude, longitude, and altitude from geocode’s location data\n",
    "golf_df['point'] = golf_df['location'].apply(lambda loc: tuple(loc.point) if loc else None)\n",
    "# Splits the 'point into' separate columns 'lat', 'long', and 'altitude'\n",
    "golf_df[['lat', 'long', 'altitude']] = pd.DataFrame(golf_df['point'].to_list(), index=golf_df.index)\n",
    "# Puts 'lat' and 'long' together as tuple\n",
    "df['coord'] = list(zip(golf_df.lat, golf_df.long))"
   ]
  },
  {
   "cell_type": "code",
   "execution_count": null,
   "metadata": {},
   "outputs": [],
   "source": [
    "# Saving to a new csv, to be used in the main notebook\n",
    "golf_df.to_csv('data/golf_course_locs.csv', index = False)"
   ]
  }
 ],
 "metadata": {
  "interpreter": {
   "hash": "670eea93cba43f1f84d8bc64b316000780d88d6f1c85092a89a0df907d10ba17"
  },
  "kernelspec": {
   "display_name": "Python 3.9.8 ('.venv': venv)",
   "language": "python",
   "name": "python3"
  },
  "language_info": {
   "codemirror_mode": {
    "name": "ipython",
    "version": 3
   },
   "file_extension": ".py",
   "mimetype": "text/x-python",
   "name": "python",
   "nbconvert_exporter": "python",
   "pygments_lexer": "ipython3",
   "version": "3.9.8"
  },
  "orig_nbformat": 4
 },
 "nbformat": 4,
 "nbformat_minor": 2
}
