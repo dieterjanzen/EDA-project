{
 "cells": [
  {
   "cell_type": "markdown",
   "metadata": {},
   "source": [
    "# Golf course distance\n",
    "This notebook was used to find the nearest golf course (gathered in EDA_3-2) for every house. It uses the GeoPy.distance module to calculate distance in kilometer and saves the resulting DataFrame to a new .csv."
   ]
  },
  {
   "cell_type": "code",
   "execution_count": 1,
   "metadata": {},
   "outputs": [],
   "source": [
    "# Importing libraries\n",
    "import pandas as pd\n",
    "import geopy.distance\n",
    "import warnings\n",
    "warnings.filterwarnings(\"ignore\")"
   ]
  },
  {
   "cell_type": "code",
   "execution_count": 2,
   "metadata": {},
   "outputs": [],
   "source": [
    "# Loading cleaned housing data and golf course data into Panda DataFrame\n",
    "df = pd.read_csv(\"data/King_County_House_prices_dataset_cleaned.csv\")\n",
    "df_golf = pd.read_csv(\"data/golf_course_locs.csv\")"
   ]
  },
  {
   "cell_type": "code",
   "execution_count": 3,
   "metadata": {},
   "outputs": [],
   "source": [
    "# Creates empty columns\n",
    "df['nearest_golf']  = \"\"\n",
    "df['nearest_golf_distance'] = \"\"\n",
    "\n",
    "# Iterates through every house, compares it's coordinates to all golf courses in King county, and finds the closest one\n",
    "for i,row in df.iterrows(): # Houses\n",
    "    a = row.lat, row.long\n",
    "    distances = []\n",
    "    for j,row2 in df_golf.iterrows(): # Golf courses\n",
    "        b = row2.lat, row2.long\n",
    "        distances.append(geopy.distance.geodesic(a, b).km)\n",
    "\n",
    "    min_distance = min(distances)\n",
    "    min_index = distances.index(min_distance)\n",
    "\n",
    "    df['nearest_golf'][i] = df_golf.name[min_index]\n",
    "    df['nearest_golf_distance'][i] = min_distance"
   ]
  },
  {
   "cell_type": "code",
   "execution_count": 5,
   "metadata": {},
   "outputs": [],
   "source": [
    "# Saves to a new csv\n",
    "df.to_csv('data/King_County_House_prices_dataset_cleaned_distance.csv', index = False)"
   ]
  }
 ],
 "metadata": {
  "interpreter": {
   "hash": "670eea93cba43f1f84d8bc64b316000780d88d6f1c85092a89a0df907d10ba17"
  },
  "kernelspec": {
   "display_name": "Python 3.9.8 ('.venv': venv)",
   "language": "python",
   "name": "python3"
  },
  "language_info": {
   "codemirror_mode": {
    "name": "ipython",
    "version": 3
   },
   "file_extension": ".py",
   "mimetype": "text/x-python",
   "name": "python",
   "nbconvert_exporter": "python",
   "pygments_lexer": "ipython3",
   "version": "3.9.8"
  },
  "orig_nbformat": 4
 },
 "nbformat": 4,
 "nbformat_minor": 2
}
