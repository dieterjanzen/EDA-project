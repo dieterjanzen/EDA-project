{
 "cells": [
  {
   "cell_type": "markdown",
   "metadata": {},
   "source": [
    "# Golf course coordinates\n",
    "\n",
    "This notebook was used to fetch the coordinates for all golf courses in King County, USA. It uses the OpenStreetMap (OSM) tool Nominatim and the GeoPy python library. \n",
    "\n",
    "It loads a .csv containing addresses of golf courses. Using GeoPy, it appends a new column containing the coordinates as tuple, splits the coordinates into separate columns, and saves everything to a new csv."
   ]
  },
  {
   "cell_type": "code",
   "execution_count": null,
   "metadata": {},
   "outputs": [],
   "source": [
    "# Importing libraries\n",
    "import pandas as pd\n",
    "import warnings\n",
    "warnings.filterwarnings(\"ignore\")\n",
    "\n",
    "# Geopy will be used with Nominatim\n",
    "from geopy.geocoders import Nominatim\n",
    "geolocator = Nominatim(user_agent=\"DJ_EDA-project\")\n",
    "\n",
    "# The RateLimiter limits the query late and retries on timeout errors. Without it, the server will abort because of too many requests\n",
    "from geopy.extra.rate_limiter import RateLimiter\n",
    "geocode = RateLimiter(geolocator.geocode, min_delay_seconds=1)"
   ]
  },
  {
   "cell_type": "code",
   "execution_count": null,
   "metadata": {},
   "outputs": [],
   "source": [
    "# Imports .csv to a DataFrame\n",
    "golf_df = pd.read_csv(\"data/golf_courses.csv\")"
   ]
  },
  {
   "cell_type": "code",
   "execution_count": null,
   "metadata": {},
   "outputs": [],
   "source": [
    "# Use GeoPy's geocode to fetch all the location data from OSM for every address. Depending on the size of the DataFrame, it may take a long time\n",
    "golf_df['location'] = golf_df['address'].apply(geocode)"
   ]
  },
  {
   "cell_type": "code",
   "execution_count": null,
   "metadata": {},
   "outputs": [],
   "source": [
    "# Creates a new 'point' column containing latitude, longitude, and altitude from geocode’s location data\n",
    "golf_df['point'] = golf_df['location'].apply(lambda loc: tuple(loc.point) if loc else None)\n",
    "\n",
    "# Splits the 'point into' separate columns 'lat', 'long', and 'altitude'\n",
    "golf_df[['lat', 'long', 'altitude']] = pd.DataFrame(golf_df['point'].to_list(), index=golf_df.index)"
   ]
  },
  {
   "cell_type": "code",
   "execution_count": null,
   "metadata": {},
   "outputs": [],
   "source": [
    "# Saves to a new csv\n",
    "golf_df.to_csv('data/golf_course_locs.csv', index = False)"
   ]
  }
 ],
 "metadata": {
  "interpreter": {
   "hash": "670eea93cba43f1f84d8bc64b316000780d88d6f1c85092a89a0df907d10ba17"
  },
  "kernelspec": {
   "display_name": "Python 3.9.8 ('.venv': venv)",
   "language": "python",
   "name": "python3"
  },
  "language_info": {
   "codemirror_mode": {
    "name": "ipython",
    "version": 3
   },
   "file_extension": ".py",
   "mimetype": "text/x-python",
   "name": "python",
   "nbconvert_exporter": "python",
   "pygments_lexer": "ipython3",
   "version": "3.9.8"
  },
  "orig_nbformat": 4
 },
 "nbformat": 4,
 "nbformat_minor": 2
}
